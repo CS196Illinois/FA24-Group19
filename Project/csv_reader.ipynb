{
 "cells": [
  {
   "cell_type": "code",
   "execution_count": 65,
   "id": "114f5611-d85d-4ca5-b3d7-0974c371d4c7",
   "metadata": {
    "scrolled": true
   },
   "outputs": [
    {
     "name": "stdout",
     "output_type": "stream",
     "text": [
      "Total Software Engineers at Google: 14\n",
      "\n",
      "Count of each previous experience:\n",
      "Inc.                                                     4\n",
      "Software Engineer II at Microsoft                        1\n",
      "Software Engineer at IntelliSurvey                       1\n",
      "Standardized Test Tutor at Comprehensive College Prep    1\n",
      "Software Intern at OC Health Care Agency                 1\n",
      "                                                        ..\n",
      "Software Engineering Intern at Facebook                  1\n",
      "Software Development Engineering Intern at Microsoft     1\n",
      "Software Engineering Intern at National Instruments      1\n",
      "SAT Instructor at The Princeton Review                   1\n",
      "Software Engineer Intern at Princeton University         1\n",
      "Name: count, Length: 70, dtype: int64\n"
     ]
    }
   ],
   "source": [
    "import pandas as pd\n",
    "df = pd.read_csv('output.csv')\n",
    "filtered_df = df.query(\"occupation == 'Software Engineer at Google'\")\n",
    "filtered_df = filtered_df.reset_index(drop=True)\n",
    "\n",
    "# Create a new DataFrame to hold unique identifiers and their past experiences\n",
    "result_list = []\n",
    "\n",
    "# Get unique public identifiers\n",
    "unique_ids = filtered_df['public_identifier'].unique()\n",
    "\n",
    "for identifier in unique_ids:\n",
    "    # Get all rows for the current identifier from the original DataFrame\n",
    "    all_entries = df[df['public_identifier'] == identifier]\n",
    "    \n",
    "    # Current occupation (assuming the latest entry for this occupation)\n",
    "    current_occupation = filtered_df[filtered_df['public_identifier'] == identifier]['occupation'].values[0]\n",
    "    \n",
    "    # Collect past experiences (from the original DataFrame)\n",
    "    past_experience = all_entries[['title', 'company']].apply(lambda x: f\"{x['title']} at {x['company']}\", axis=1).tolist()\n",
    "    \n",
    "    # Remove the current experience if it's included in past experiences\n",
    "    current_experience = f\"{filtered_df[filtered_df['public_identifier'] == identifier]['title'].values[0]} at {filtered_df[filtered_df['public_identifier'] == identifier]['company'].values[0]}\"\n",
    "    past_experience = [exp for exp in past_experience if exp != current_experience]\n",
    "    \n",
    "    # Join past experiences with commas\n",
    "    past_experience_str = ', '.join(past_experience) if past_experience else \"No past experience\"\n",
    "\n",
    "    # Append the result\n",
    "    result_list.append({\n",
    "        'public_identifier': identifier,\n",
    "        'occupation': current_occupation,\n",
    "        'past_experience': past_experience_str\n",
    "    })\n",
    "\n",
    "# Create the final DataFrame\n",
    "final_df = pd.DataFrame(result_list)\n",
    "\n",
    "# Reset index\n",
    "final_df.reset_index(drop=True, inplace=True)\n",
    "\n",
    "unique_engineers_count = final_df['public_identifier'].nunique()\n",
    "print(\"Total Software Engineers at Google:\", unique_engineers_count)\n",
    "\n",
    "# Create a past experience list\n",
    "past_experience_list = []\n",
    "\n",
    "for index, row in final_df.iterrows():\n",
    "    # Split the current entry into title and company\n",
    "    current_experience = f\"{row['occupation']}\"  # occupation from final_df\n",
    "    past_experience = row['past_experience'].split(', ') if row['past_experience'] != \"No past experience\" else []\n",
    "    \n",
    "    # Add past experiences to the list\n",
    "    past_experience_list.extend(past_experience)\n",
    "\n",
    "# Count occurrences of each unique past experience\n",
    "past_experience_counts = pd.Series(past_experience_list).value_counts()\n",
    "\n",
    "print(\"\\nCount of each previous experience:\")\n",
    "print(past_experience_counts)"
   ]
  }
 ],
 "metadata": {
  "kernelspec": {
   "display_name": "Python 3 (ipykernel)",
   "language": "python",
   "name": "python3"
  },
  "language_info": {
   "codemirror_mode": {
    "name": "ipython",
    "version": 3
   },
   "file_extension": ".py",
   "mimetype": "text/x-python",
   "name": "python",
   "nbconvert_exporter": "python",
   "pygments_lexer": "ipython3",
   "version": "3.12.2"
  }
 },
 "nbformat": 4,
 "nbformat_minor": 5
}
